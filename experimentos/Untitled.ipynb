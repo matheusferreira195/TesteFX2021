{
 "cells": [
  {
   "cell_type": "code",
   "execution_count": 37,
   "id": "cce5fb29-9fd8-4f7e-aeda-a23fe52b7c00",
   "metadata": {},
   "outputs": [],
   "source": [
    "from pyspark.asql import SparkSession\n",
    "import pyspark.sql.functions as F\n",
    "from pyspark.sql.types import (BooleanType, ByteType, DateType, IntegerType,\n",
    "                               LongType, ShortType, StringType, StructField,\n",
    "                               StructType, TimestampType)\n",
    "from pyspark.sql.window import Window\n",
    "from itertools import chain"
   ]
  },
  {
   "cell_type": "code",
   "execution_count": 2,
   "id": "5ddd18e5-16f1-4770-a045-2d159bd07d0b",
   "metadata": {},
   "outputs": [],
   "source": [
    "spark = SparkSession.builder \\\n",
    "        .master(\"local[*]\") \\\n",
    "        .appName(\"b2w\") \\\n",
    "        .getOrCreate()"
   ]
  },
  {
   "cell_type": "code",
   "execution_count": 3,
   "id": "3f908ab9-17b8-43d6-a6b4-c062398aed71",
   "metadata": {},
   "outputs": [],
   "source": [
    "df = spark.read \\\n",
    "        .format(\"json\") \\\n",
    "        .option(\"header\", \"true\") \\\n",
    "        .option(\"timestampFormat\", \"dd/MM/yyyy HH:mm:ss\") \\\n",
    "        .load(\"dados_navegacionais\")"
   ]
  },
  {
   "cell_type": "code",
   "execution_count": 12,
   "id": "294da640-b709-46dd-be7a-b999b7a8a839",
   "metadata": {},
   "outputs": [
    {
     "name": "stdout",
     "output_type": "stream",
     "text": [
      "root\n",
      " |-- cart_qty: long (nullable = true)\n",
      " |-- cart_total_value: double (nullable = true)\n",
      " |-- device_type: string (nullable = true)\n",
      " |-- freight_delivery_time: long (nullable = true)\n",
      " |-- freight_value: double (nullable = true)\n",
      " |-- load_timestamp: string (nullable = true)\n",
      " |-- page_type: string (nullable = true)\n",
      " |-- product_id: long (nullable = true)\n",
      " |-- product_unit_price: double (nullable = true)\n",
      " |-- search_query: string (nullable = true)\n",
      " |-- site_department_id: long (nullable = true)\n",
      " |-- url_location: string (nullable = true)\n",
      " |-- visit_id: string (nullable = true)\n",
      "\n"
     ]
    }
   ],
   "source": [
    "df.printSchema()"
   ]
  },
  {
   "cell_type": "code",
   "execution_count": 17,
   "id": "6bb44938-8a1b-4f3c-bdc1-eb9b4b4ac5aa",
   "metadata": {},
   "outputs": [],
   "source": [
    "df_steps = df.select(\"load_timestamp\", \"visit_id\", \"page_type\").sort(\"visit_id\", \"load_timestamp\")"
   ]
  },
  {
   "cell_type": "code",
   "execution_count": 22,
   "id": "3f95e772-828f-4b19-b1ca-af6520089981",
   "metadata": {},
   "outputs": [
    {
     "name": "stdout",
     "output_type": "stream",
     "text": [
      "+-----------------------+-------------------------------------------+---------+--------------+\n",
      "|load_timestamp         |visit_id                                   |page_type|passo_anterior|\n",
      "+-----------------------+-------------------------------------------+---------+--------------+\n",
      "|2019-02-20 17:01:16.849|1.008219369612927420192031653336-1550692399|product  |0             |\n",
      "|2019-02-20 17:01:20.967|1.008219369612927420192031653336-1550692399|product  |0             |\n",
      "|2019-02-20 17:01:33.950|1.008219369612927420192031653336-1550692399|product  |0             |\n",
      "|2019-02-20 17:08:56.353|1.008219369612927420192031653336-1550692399|product  |0             |\n",
      "|2019-02-20 17:09:26.401|1.008219369612927420192031653336-1550692399|product  |0             |\n",
      "|2019-02-20 17:02:58.448|1.035071781647744220191811615858-1550692978|product  |0             |\n",
      "|2019-02-20 17:03:32.805|1.035071781647744220191811615858-1550692978|product  |0             |\n",
      "|2019-02-20 17:03:41.211|1.11986394964846882019203173482-1550693021 |search   |product       |\n",
      "|2019-02-20 17:01:14.917|1.1554458554662297201920317169-1550692874  |search   |0             |\n",
      "|2019-02-20 17:04:11.013|1.17005309943329832019203173935-1550693051 |product  |search        |\n",
      "+-----------------------+-------------------------------------------+---------+--------------+\n",
      "only showing top 10 rows\n",
      "\n"
     ]
    }
   ],
   "source": [
    "df_steps.show(n=10, truncate=False)"
   ]
  },
  {
   "cell_type": "code",
   "execution_count": 28,
   "id": "1393a28b-428a-4c00-8e0e-b2a6b65f8cc2",
   "metadata": {},
   "outputs": [
    {
     "name": "stdout",
     "output_type": "stream",
     "text": [
      "+---------+--------------+-----+\n",
      "|page_type|passo_anterior|count|\n",
      "+---------+--------------+-----+\n",
      "|search   |product       |10336|\n",
      "|product  |search        |12442|\n",
      "|home     |product       |3467 |\n",
      "|search   |home          |3100 |\n",
      "|basket   |product       |2635 |\n",
      "|payment  |basket        |797  |\n",
      "|thankyou |payment       |389  |\n",
      "|product  |thankyou      |244  |\n",
      "|search   |basket        |811  |\n",
      "|product  |payment       |360  |\n",
      "|home     |search        |1598 |\n",
      "|product  |home          |2276 |\n",
      "|search   |payment       |161  |\n",
      "|basket   |search        |345  |\n",
      "|product  |basket        |1461 |\n",
      "|payment  |search        |93   |\n",
      "|basket   |payment       |260  |\n",
      "|home     |basket        |324  |\n",
      "|thankyou |product       |98   |\n",
      "|thankyou |home          |16   |\n",
      "|home     |thankyou      |104  |\n",
      "|home     |payment       |127  |\n",
      "|search   |thankyou      |110  |\n",
      "|payment  |product       |248  |\n",
      "|basket   |home          |144  |\n",
      "|thankyou |basket        |10   |\n",
      "|basket   |thankyou      |19   |\n",
      "|payment  |home          |84   |\n",
      "|thankyou |search        |39   |\n",
      "|payment  |thankyou      |75   |\n",
      "|product  |null          |20878|\n",
      "|search   |null          |17146|\n",
      "|basket   |null          |3812 |\n",
      "|home     |null          |1081 |\n",
      "|payment  |null          |904  |\n",
      "|thankyou |null          |143  |\n",
      "|null     |null          |1    |\n",
      "+---------+--------------+-----+\n",
      "\n"
     ]
    }
   ],
   "source": [
    "df_count.show(n=50, truncate=False)"
   ]
  },
  {
   "cell_type": "code",
   "execution_count": 14,
   "id": "a99b14df-1e12-4a4f-a4c7-72bb0c0790e7",
   "metadata": {},
   "outputs": [],
   "source": [
    "step_window = Window.partitionBy().orderBy(\"visit_id\", \"load_timestamp\")"
   ]
  },
  {
   "cell_type": "code",
   "execution_count": 24,
   "id": "46955e0d-7e84-4449-8160-dc2c62c25ca1",
   "metadata": {},
   "outputs": [],
   "source": [
    "df_steps = df_steps.withColumn(\"passo_anterior\", F.when(df_steps.page_type != F.lag(df_steps.page_type).over(step_window), F.lag(df_steps.page_type).over(step_window)).otherwise(None))"
   ]
  },
  {
   "cell_type": "code",
   "execution_count": 25,
   "id": "1381bfc1-d8ae-4478-a2bf-147a96830702",
   "metadata": {},
   "outputs": [],
   "source": [
    "df_count = df_steps.groupby(\"page_type\", \"passo_anterior\").count()"
   ]
  },
  {
   "cell_type": "code",
   "execution_count": 33,
   "id": "01ca2516-4fc8-4f8a-bb60-7b425102e991",
   "metadata": {},
   "outputs": [],
   "source": [
    "df_count_final = df_count.select(F.col(\"passo_anterior\"), F.col(\"page_type\").alias(\"passo_atual\"), F.col(\"count\")).dropna()"
   ]
  },
  {
   "cell_type": "code",
   "execution_count": 35,
   "id": "161c8efa-2805-40f8-95b5-c976502ca0c1",
   "metadata": {},
   "outputs": [],
   "source": [
    "tag_passos = {'home':0, 'search':1, 'product':2, 'basket':3,'payment':4, 'thankyou':5}"
   ]
  },
  {
   "cell_type": "code",
   "execution_count": 38,
   "id": "10db3b64-3485-4eeb-ae52-f52c75ef1f8f",
   "metadata": {},
   "outputs": [],
   "source": [
    "mapeamento_tags = F.create_map([F.lit(tag) for tag in chain(*tag_passos.items())])"
   ]
  },
  {
   "cell_type": "code",
   "execution_count": 40,
   "id": "90257b37-450d-4ad2-8cff-c0568d489c9b",
   "metadata": {},
   "outputs": [],
   "source": [
    "df_count_final = df_count_final.withColumn('passo_anterior', mapeamento_tags[df_count_final['passo_anterior']])\n",
    "df_count_final = df_count_final.withColumn('passo_atual', mapeamento_tags[df_count_final['passo_atual']])"
   ]
  },
  {
   "cell_type": "code",
   "execution_count": 41,
   "id": "79a9cbab-20c7-4b11-9faf-3799fa5fe6c6",
   "metadata": {},
   "outputs": [
    {
     "name": "stdout",
     "output_type": "stream",
     "text": [
      "+--------------+-----------+-----+\n",
      "|passo_anterior|passo_atual|count|\n",
      "+--------------+-----------+-----+\n",
      "|2             |1          |10336|\n",
      "|1             |2          |12442|\n",
      "|2             |0          |3467 |\n",
      "|0             |1          |3100 |\n",
      "|2             |3          |2635 |\n",
      "|3             |4          |797  |\n",
      "|4             |5          |389  |\n",
      "|5             |2          |244  |\n",
      "|3             |1          |811  |\n",
      "|4             |2          |360  |\n",
      "|1             |0          |1598 |\n",
      "|0             |2          |2276 |\n",
      "|4             |1          |161  |\n",
      "|1             |3          |345  |\n",
      "|3             |2          |1461 |\n",
      "|1             |4          |93   |\n",
      "|4             |3          |260  |\n",
      "|3             |0          |324  |\n",
      "|2             |5          |98   |\n",
      "|0             |5          |16   |\n",
      "|5             |0          |104  |\n",
      "|4             |0          |127  |\n",
      "|5             |1          |110  |\n",
      "|2             |4          |248  |\n",
      "|0             |3          |144  |\n",
      "|3             |5          |10   |\n",
      "|5             |3          |19   |\n",
      "|0             |4          |84   |\n",
      "|1             |5          |39   |\n",
      "|5             |4          |75   |\n",
      "+--------------+-----------+-----+\n",
      "\n"
     ]
    }
   ],
   "source": [
    "df_count_final.show(n=50, truncate=False)"
   ]
  }
 ],
 "metadata": {
  "kernelspec": {
   "display_name": "Python 3",
   "language": "python",
   "name": "python3"
  },
  "language_info": {
   "codemirror_mode": {
    "name": "ipython",
    "version": 3
   },
   "file_extension": ".py",
   "mimetype": "text/x-python",
   "name": "python",
   "nbconvert_exporter": "python",
   "pygments_lexer": "ipython3",
   "version": "3.8.6"
  }
 },
 "nbformat": 4,
 "nbformat_minor": 5
}
