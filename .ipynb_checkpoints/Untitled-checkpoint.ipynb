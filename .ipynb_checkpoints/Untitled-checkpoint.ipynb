{
 "cells": [
  {
   "cell_type": "code",
   "execution_count": 2,
   "id": "cce5fb29-9fd8-4f7e-aeda-a23fe52b7c00",
   "metadata": {},
   "outputs": [],
   "source": [
    "from pyspark.sql import SparkSession\n",
    "import pyspark.sql.functions as F\n",
    "from pyspark.sql.types import (BooleanType, ByteType, DateType, IntegerType,\n",
    "                               LongType, ShortType, StringType, StructField,\n",
    "                               StructType, TimestampType)\n",
    "from pyspark.sql.window import Window\n",
    "from itertools import chain"
   ]
  },
  {
   "cell_type": "code",
   "execution_count": 3,
   "id": "5ddd18e5-16f1-4770-a045-2d159bd07d0b",
   "metadata": {},
   "outputs": [],
   "source": [
    "spark = SparkSession.builder \\\n",
    "        .master(\"local[*]\") \\\n",
    "        .appName(\"b2w\") \\\n",
    "        .getOrCreate()"
   ]
  },
  {
   "cell_type": "code",
   "execution_count": 4,
   "id": "3f908ab9-17b8-43d6-a6b4-c062398aed71",
   "metadata": {},
   "outputs": [],
   "source": [
    "df = spark.read \\\n",
    "        .format(\"json\") \\\n",
    "        .option(\"header\", \"true\") \\\n",
    "        .option(\"timestampFormat\", \"dd/MM/yyyy HH:mm:ss\") \\\n",
    "        .load(\"dados/dados_navegacionais\")"
   ]
  },
  {
   "cell_type": "code",
   "execution_count": 5,
   "id": "294da640-b709-46dd-be7a-b999b7a8a839",
   "metadata": {},
   "outputs": [
    {
     "name": "stdout",
     "output_type": "stream",
     "text": [
      "root\n",
      " |-- cart_qty: long (nullable = true)\n",
      " |-- cart_total_value: double (nullable = true)\n",
      " |-- device_type: string (nullable = true)\n",
      " |-- freight_delivery_time: long (nullable = true)\n",
      " |-- freight_value: double (nullable = true)\n",
      " |-- load_timestamp: string (nullable = true)\n",
      " |-- page_type: string (nullable = true)\n",
      " |-- product_id: long (nullable = true)\n",
      " |-- product_unit_price: double (nullable = true)\n",
      " |-- search_query: string (nullable = true)\n",
      " |-- site_department_id: long (nullable = true)\n",
      " |-- url_location: string (nullable = true)\n",
      " |-- visit_id: string (nullable = true)\n",
      "\n"
     ]
    }
   ],
   "source": [
    "df.printSchema()"
   ]
  },
  {
   "cell_type": "code",
   "execution_count": 6,
   "id": "6bb44938-8a1b-4f3c-bdc1-eb9b4b4ac5aa",
   "metadata": {},
   "outputs": [],
   "source": [
    "df_steps = df.select(\"load_timestamp\", \"visit_id\", \"page_type\").sort(\"visit_id\", \"load_timestamp\")"
   ]
  },
  {
   "cell_type": "code",
   "execution_count": 7,
   "id": "3f95e772-828f-4b19-b1ca-af6520089981",
   "metadata": {},
   "outputs": [
    {
     "name": "stdout",
     "output_type": "stream",
     "text": [
      "+-----------------------+-------------------------------------------+---------+\n",
      "|load_timestamp         |visit_id                                   |page_type|\n",
      "+-----------------------+-------------------------------------------+---------+\n",
      "|2019-02-20 17:01:16.849|1.008219369612927420192031653336-1550692399|product  |\n",
      "|2019-02-20 17:01:20.967|1.008219369612927420192031653336-1550692399|product  |\n",
      "|2019-02-20 17:01:33.950|1.008219369612927420192031653336-1550692399|product  |\n",
      "|2019-02-20 17:08:56.353|1.008219369612927420192031653336-1550692399|product  |\n",
      "|2019-02-20 17:09:26.401|1.008219369612927420192031653336-1550692399|product  |\n",
      "|2019-02-20 17:02:58.448|1.035071781647744220191811615858-1550692978|product  |\n",
      "|2019-02-20 17:03:32.805|1.035071781647744220191811615858-1550692978|product  |\n",
      "|2019-02-20 17:03:41.211|1.11986394964846882019203173482-1550693021 |search   |\n",
      "|2019-02-20 17:01:14.917|1.1554458554662297201920317169-1550692874  |search   |\n",
      "|2019-02-20 17:04:11.013|1.17005309943329832019203173935-1550693051 |product  |\n",
      "+-----------------------+-------------------------------------------+---------+\n",
      "only showing top 10 rows\n",
      "\n"
     ]
    }
   ],
   "source": [
    "df_steps.show(n=10, truncate=False)"
   ]
  },
  {
   "cell_type": "code",
   "execution_count": 9,
   "id": "a99b14df-1e12-4a4f-a4c7-72bb0c0790e7",
   "metadata": {},
   "outputs": [],
   "source": [
    "step_window = Window.partitionBy().orderBy(\"visit_id\", \"load_timestamp\")"
   ]
  },
  {
   "cell_type": "code",
   "execution_count": 10,
   "id": "46955e0d-7e84-4449-8160-dc2c62c25ca1",
   "metadata": {},
   "outputs": [],
   "source": [
    "df_steps = df_steps.withColumn(\"passo_anterior\", F.when(df_steps.page_type != F.lag(df_steps.page_type).over(step_window), F.lag(df_steps.page_type).over(step_window)).otherwise(None))"
   ]
  },
  {
   "cell_type": "code",
   "execution_count": 17,
   "id": "663a733a-76e7-4b46-96a7-bccba9cee172",
   "metadata": {},
   "outputs": [
    {
     "name": "stdout",
     "output_type": "stream",
     "text": [
      "+-----------------------+-------------------------------------------+---------+--------------+\n",
      "|load_timestamp         |visit_id                                   |page_type|passo_anterior|\n",
      "+-----------------------+-------------------------------------------+---------+--------------+\n",
      "|2019-02-20 17:01:16.849|1.008219369612927420192031653336-1550692399|product  |null          |\n",
      "|2019-02-20 17:01:20.967|1.008219369612927420192031653336-1550692399|product  |null          |\n",
      "|2019-02-20 17:01:33.950|1.008219369612927420192031653336-1550692399|product  |null          |\n",
      "|2019-02-20 17:08:56.353|1.008219369612927420192031653336-1550692399|product  |null          |\n",
      "|2019-02-20 17:09:26.401|1.008219369612927420192031653336-1550692399|product  |null          |\n",
      "|2019-02-20 17:02:58.448|1.035071781647744220191811615858-1550692978|product  |null          |\n",
      "|2019-02-20 17:03:32.805|1.035071781647744220191811615858-1550692978|product  |null          |\n",
      "|2019-02-20 17:03:41.211|1.11986394964846882019203173482-1550693021 |search   |product       |\n",
      "|2019-02-20 17:01:14.917|1.1554458554662297201920317169-1550692874  |search   |null          |\n",
      "|2019-02-20 17:04:11.013|1.17005309943329832019203173935-1550693051 |product  |search        |\n",
      "|2019-02-20 17:08:36.997|1.20064171262812462019203178959-1550693316 |search   |product       |\n",
      "|2019-02-20 17:04:05.879|1.20181361661975042019203172985-1550693045 |product  |search        |\n",
      "|2019-02-20 17:06:34.323|1.20181361661975042019203172985-1550693045 |product  |null          |\n",
      "|2019-02-20 17:00:03.596|1.244575689755111201985150686-1550692803   |home     |product       |\n",
      "|2019-02-20 17:00:24.092|1.244575689755111201985150686-1550692803   |search   |home          |\n",
      "|2019-02-20 17:03:05.748|1.244575689755111201985150686-1550692803   |search   |null          |\n",
      "|2019-02-20 17:03:16.243|1.244575689755111201985150686-1550692803   |product  |search        |\n",
      "|2019-02-20 17:03:39.569|1.244575689755111201985150686-1550692803   |product  |null          |\n",
      "|2019-02-20 17:04:09.903|1.244575689755111201985150686-1550692803   |product  |null          |\n",
      "|2019-02-20 17:04:29.768|1.244575689755111201985150686-1550692803   |basket   |product       |\n",
      "|2019-02-20 17:04:47.425|1.244575689755111201985150686-1550692803   |payment  |basket        |\n",
      "|2019-02-20 17:06:03.792|1.244575689755111201985150686-1550692803   |thankyou |payment       |\n",
      "|2019-02-20 17:06:08.490|1.24583783889808862019203176542-1550693168 |product  |thankyou      |\n",
      "|2019-02-20 17:00:24.285|1.2544356248557220192031646557-1550691993  |basket   |product       |\n",
      "|2019-02-20 17:00:20.332|1.25546747283944352019203170366-1550692820 |search   |basket        |\n",
      "|2019-02-20 17:01:01.761|1.25546747283944352019203170366-1550692820 |search   |null          |\n",
      "|2019-02-20 17:06:13.336|1.25546747283944352019203170366-1550692820 |product  |search        |\n",
      "|2019-02-20 17:01:42.956|1.265499351466580420192031629656-1550692484|product  |null          |\n",
      "|2019-02-20 17:01:46.015|1.265499351466580420192031629656-1550692484|home     |product       |\n",
      "|2019-02-20 17:01:57.177|1.265499351466580420192031629656-1550692484|search   |home          |\n",
      "|2019-02-20 17:02:12.698|1.265499351466580420192031629656-1550692484|product  |search        |\n",
      "|2019-02-20 17:03:18.515|1.265499351466580420192031629656-1550692484|product  |null          |\n",
      "|2019-02-20 17:05:03.915|1.265499351466580420192031629656-1550692484|product  |null          |\n",
      "|2019-02-20 17:08:46.369|1.265499351466580420192031629656-1550692484|search   |product       |\n",
      "|2019-02-20 17:09:17.157|1.265499351466580420192031629656-1550692484|search   |null          |\n",
      "|2019-02-20 17:09:31.522|1.265499351466580420192031629656-1550692484|product  |search        |\n",
      "|2019-02-20 17:07:08.386|1.30981259350193472019203177305-1550693228 |product  |null          |\n",
      "|2019-02-20 17:03:40.300|1.375826807763379720192031535926-1550693020|product  |null          |\n",
      "|2019-02-20 17:00:29.153|1.382242440188029820192031657218-1550692665|product  |null          |\n",
      "|2019-02-20 17:02:20.983|1.39299992765395862019203175240-1550692940 |product  |null          |\n",
      "|2019-02-20 17:00:59.026|1.412414264921112720192031658645-1550692757|basket   |product       |\n",
      "|2019-02-20 17:00:59.026|1.412414264921112720192031658645-1550692757|basket   |null          |\n",
      "|2019-02-20 17:02:30.454|1.412414264921112720192031658645-1550692757|payment  |basket        |\n",
      "|2019-02-20 17:00:04.829|1.414883994044601420192031658240-1550692723|product  |payment       |\n",
      "|2019-02-20 17:05:16.786|1.44961252864061942019203175617-1550693116 |search   |product       |\n",
      "|2019-02-20 17:05:49.572|1.44961252864061942019203175617-1550693116 |product  |search        |\n",
      "|2019-02-20 17:03:44.897|1.47625388778327342019203173628-1550693024 |search   |product       |\n",
      "|2019-02-20 17:04:57.454|1.47625388778327342019203173628-1550693024 |product  |search        |\n",
      "|2019-02-20 17:02:46.309|1.499067989934820520192031658970-1550692720|product  |null          |\n",
      "|2019-02-20 17:03:30.044|1.53887058385182482019203173414-1550693010 |home     |product       |\n",
      "+-----------------------+-------------------------------------------+---------+--------------+\n",
      "only showing top 50 rows\n",
      "\n"
     ]
    }
   ],
   "source": [
    "df_steps.show(n=50, truncate=False)"
   ]
  },
  {
   "cell_type": "code",
   "execution_count": 18,
   "id": "2b9dca35-c5cf-4b3f-959d-3f6d41d8b72e",
   "metadata": {},
   "outputs": [],
   "source": [
    "df_devdd = df_steps.toPandas()"
   ]
  },
  {
   "cell_type": "code",
   "execution_count": 11,
   "id": "1381bfc1-d8ae-4478-a2bf-147a96830702",
   "metadata": {},
   "outputs": [],
   "source": [
    "df_count = df_steps.groupby(\"page_type\", \"passo_anterior\").count()"
   ]
  },
  {
   "cell_type": "code",
   "execution_count": 12,
   "id": "01ca2516-4fc8-4f8a-bb60-7b425102e991",
   "metadata": {},
   "outputs": [],
   "source": [
    "df_count_final = df_count.select(F.col(\"passo_anterior\"), F.col(\"page_type\").alias(\"passo_atual\"), F.col(\"count\")).dropna()"
   ]
  },
  {
   "cell_type": "code",
   "execution_count": 13,
   "id": "161c8efa-2805-40f8-95b5-c976502ca0c1",
   "metadata": {},
   "outputs": [],
   "source": [
    "tag_passos = {'home':0, 'search':1, 'product':2, 'basket':3,'payment':4, 'thankyou':5}"
   ]
  },
  {
   "cell_type": "code",
   "execution_count": 14,
   "id": "10db3b64-3485-4eeb-ae52-f52c75ef1f8f",
   "metadata": {},
   "outputs": [],
   "source": [
    "mapeamento_tags = F.create_map([F.lit(tag) for tag in chain(*tag_passos.items())])"
   ]
  },
  {
   "cell_type": "code",
   "execution_count": 15,
   "id": "90257b37-450d-4ad2-8cff-c0568d489c9b",
   "metadata": {},
   "outputs": [],
   "source": [
    "df_count_final = df_count_final.withColumn('passo_anterior', mapeamento_tags[df_count_final['passo_anterior']])\n",
    "df_count_final = df_count_final.withColumn('passo_atual', mapeamento_tags[df_count_final['passo_atual']])"
   ]
  },
  {
   "cell_type": "code",
   "execution_count": 16,
   "id": "79a9cbab-20c7-4b11-9faf-3799fa5fe6c6",
   "metadata": {},
   "outputs": [
    {
     "name": "stdout",
     "output_type": "stream",
     "text": [
      "+--------------+-----------+-----+\n",
      "|passo_anterior|passo_atual|count|\n",
      "+--------------+-----------+-----+\n",
      "|2             |1          |10336|\n",
      "|1             |2          |12442|\n",
      "|2             |0          |3467 |\n",
      "|0             |1          |3100 |\n",
      "|2             |3          |2635 |\n",
      "|3             |4          |797  |\n",
      "|4             |5          |389  |\n",
      "|5             |2          |244  |\n",
      "|3             |1          |811  |\n",
      "|4             |2          |360  |\n",
      "|1             |0          |1598 |\n",
      "|0             |2          |2276 |\n",
      "|4             |1          |161  |\n",
      "|1             |3          |345  |\n",
      "|3             |2          |1461 |\n",
      "|1             |4          |93   |\n",
      "|4             |3          |260  |\n",
      "|3             |0          |324  |\n",
      "|2             |5          |98   |\n",
      "|0             |5          |16   |\n",
      "|5             |0          |104  |\n",
      "|4             |0          |127  |\n",
      "|5             |1          |110  |\n",
      "|2             |4          |248  |\n",
      "|0             |3          |144  |\n",
      "|3             |5          |10   |\n",
      "|5             |3          |19   |\n",
      "|0             |4          |84   |\n",
      "|1             |5          |39   |\n",
      "|5             |4          |75   |\n",
      "+--------------+-----------+-----+\n",
      "\n"
     ]
    }
   ],
   "source": [
    "df_count_final.show(n=50, truncate=False)"
   ]
  },
  {
   "cell_type": "code",
   "execution_count": null,
   "id": "0b88b508-38d1-4566-9bbb-3ceb48e75d7f",
   "metadata": {},
   "outputs": [],
   "source": []
  }
 ],
 "metadata": {
  "kernelspec": {
   "display_name": "Python 3",
   "language": "python",
   "name": "python3"
  },
  "language_info": {
   "codemirror_mode": {
    "name": "ipython",
    "version": 3
   },
   "file_extension": ".py",
   "mimetype": "text/x-python",
   "name": "python",
   "nbconvert_exporter": "python",
   "pygments_lexer": "ipython3",
   "version": "3.8.6"
  }
 },
 "nbformat": 4,
 "nbformat_minor": 5
}
